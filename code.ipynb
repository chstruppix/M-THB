{
  "nbformat": 4,
  "nbformat_minor": 0,
  "metadata": {
    "colab": {
      "name": "Maya: Mental Health Chatbot.ipynb",
      "provenance": [],
      "collapsed_sections": [],
      "authorship_tag": "ABX9TyP2X96wY+ztOeJJ1ho1K4Jn",
      "include_colab_link": true
    },
    "kernelspec": {
      "name": "python3",
      "display_name": "Python 3"
    },
    "language_info": {
      "name": "python"
    }
  },
  "cells": [
    {
      "cell_type": "markdown",
      "metadata": {
        "id": "view-in-github",
        "colab_type": "text"
      },
      "source": [
        "<a href=\"https://colab.research.google.com/github/chstruppix/M-THB/blob/main/code.ipynb\" target=\"_parent\"><img src=\"https://colab.research.google.com/assets/colab-badge.svg\" alt=\"Open In Colab\"/></a>"
      ]
    },
    {
      "cell_type": "markdown",
      "source": [
        ""
      ],
      "metadata": {
        "id": "CBGo2ciLndNs"
      }
    },
    {
      "cell_type": "code",
      "execution_count": null,
      "metadata": {
        "id": "_E1MVkzXlZhV"
      },
      "outputs": [],
      "source": [
        "import pandas as pd\n",
        "import tensorflow as tf\n",
        "import numpy as np\n",
        "from tensorflow.keras.models import Sequential\n",
        "from tensorflow.keras.losses import categorical_crossentropy\n",
        "from tensorflow.keras.optimizers import SGD\n",
        "from tensorflow.keras.layers import Dense\n",
        " \n",
        "from numpy import argmax\n",
        "import re"
      ]
    },
    {
      "cell_type": "code",
      "source": [
        "X = ['Depressed',\n",
        "     'sad',\n",
        "     'life sucks',\n",
        "     'time alone',\n",
        "     'lifes bad',\n",
        "     'uncontrollable',\n",
        "     'anxious',\n",
        "     'wrestless',\n",
        "     'nervous',\n",
        "     'out of control',\n",
        "     'incapable',\n",
        "     'unworthy',\n",
        "     'underwhelmed',\n",
        "     'incompetent',\n",
        "     'directionless',\n",
        "     'tension',\n",
        "     'stressed',\n",
        "     'worried',\n",
        "     'strained',\n",
        "     'burdened']\n",
        "len(X)"
      ],
      "metadata": {
        "colab": {
          "base_uri": "https://localhost:8080/"
        },
        "id": "Tn9cxHKGvPKJ",
        "outputId": "237afdd7-811f-4642-a197-1c48a61be579"
      },
      "execution_count": null,
      "outputs": [
        {
          "output_type": "execute_result",
          "data": {
            "text/plain": [
              "20"
            ]
          },
          "metadata": {},
          "execution_count": 2
        }
      ]
    },
    {
      "cell_type": "code",
      "source": [
        "Y = ['depressed',\n",
        "     'depressed',\n",
        "     'depressed',\n",
        "     'depressed',\n",
        "     'depressed',\n",
        "     'anxious',\n",
        "     'anxious',\n",
        "     'anxious',\n",
        "     'anxious',\n",
        "     'anxious',\n",
        "     'demotivated',\n",
        "     'demotivated',\n",
        "     'demotivated',\n",
        "     'demotivated',\n",
        "     'demotivated',\n",
        "     'stressed',\n",
        "     'stressed',\n",
        "     'stressed',\n",
        "     'stressed',\n",
        "     'stressed']\n",
        "len(Y)"
      ],
      "metadata": {
        "id": "Xrl3uVhH0TEy"
      },
      "execution_count": null,
      "outputs": []
    },
    {
      "cell_type": "code",
      "source": [
        "def remove_non_alpha_numeric_characters(sentence):\n",
        "    new_sentence = ''\n",
        "    for token in sentence:\n",
        "        if token.isalpha() or token == ' ':\n",
        "            new_sentence += token\n",
        "    return new_sentence"
      ],
      "metadata": {
        "id": "1dFNDJZZ0a3W"
      },
      "execution_count": null,
      "outputs": []
    },
    {
      "cell_type": "code",
      "source": [
        "def preprocess_data(X):\n",
        "    X = [data_point.lower() for data_point in X]\n",
        "    X = [remove_non_alpha_numeric_characters(\n",
        "        sentence) for sentence in X]\n",
        "    X = [data_point.strip() for data_point in X]\n",
        "    X = [re.sub(' +', ' ',\n",
        "                data_point) for data_point in X]\n",
        "    return X"
      ],
      "metadata": {
        "id": "SZLSI0F_0bm0"
      },
      "execution_count": null,
      "outputs": []
    },
    {
      "cell_type": "code",
      "source": [
        "X = preprocess_data(X)\n",
        "\n",
        "vocabulary = set()\n",
        "for data_point in X:\n",
        "    for word in data_point.split(' '):\n",
        "        vocabulary.add(word)\n",
        "\n",
        "vocabulary = list(vocabulary)\n",
        "print(vocabulary)\n",
        "print(len(vocabulary))"
      ],
      "metadata": {
        "id": "PIwyhix30f1Q"
      },
      "execution_count": null,
      "outputs": []
    },
    {
      "cell_type": "code",
      "source": [
        "X_encoded = []\n",
        "\n",
        "def encode_sentence(sentence):\n",
        "    sentence = preprocess_data([sentence])[0]\n",
        "    # print(preprocess_data([sentence]))\n",
        "    # print(preprocess_data([sentence])[0])\n",
        "    sentence_encoded = [0] * len(vocabulary)\n",
        "    for i in range(len(vocabulary)):\n",
        "        if vocabulary[i] in sentence.split(' '):\n",
        "            sentence_encoded[i] = 1\n",
        "    return sentence_encoded\n",
        "\n",
        "X_encoded = [encode_sentence(sentence) for sentence in X]\n",
        "print(X_encoded)"
      ],
      "metadata": {
        "colab": {
          "base_uri": "https://localhost:8080/"
        },
        "id": "8PB28L2Z0jFi",
        "outputId": "72a46226-04e7-489b-eca6-cbcdfe28f063"
      },
      "execution_count": null,
      "outputs": [
        {
          "output_type": "stream",
          "name": "stdout",
          "text": [
            "[[0, 0, 0, 0, 0, 0, 0, 0, 0, 0, 0, 0, 0, 0, 0, 0, 0, 0, 0, 0, 0, 0, 0, 1, 0], [1, 0, 0, 0, 0, 0, 0, 0, 0, 0, 0, 0, 0, 0, 0, 0, 0, 0, 0, 0, 0, 0, 0, 0, 0], [0, 0, 0, 0, 0, 0, 0, 0, 0, 0, 1, 0, 0, 0, 0, 0, 0, 0, 0, 0, 0, 1, 0, 0, 0], [0, 0, 0, 1, 0, 0, 0, 0, 0, 0, 0, 1, 0, 0, 0, 0, 0, 0, 0, 0, 0, 0, 0, 0, 0], [0, 0, 0, 0, 0, 0, 0, 0, 0, 0, 0, 0, 0, 1, 1, 0, 0, 0, 0, 0, 0, 0, 0, 0, 0], [0, 0, 0, 0, 0, 0, 0, 0, 0, 0, 0, 0, 0, 0, 0, 0, 0, 1, 0, 0, 0, 0, 0, 0, 0], [0, 0, 0, 0, 0, 1, 0, 0, 0, 0, 0, 0, 0, 0, 0, 0, 0, 0, 0, 0, 0, 0, 0, 0, 0], [0, 0, 0, 0, 0, 0, 0, 0, 0, 0, 0, 0, 1, 0, 0, 0, 0, 0, 0, 0, 0, 0, 0, 0, 0], [0, 1, 0, 0, 0, 0, 0, 0, 0, 0, 0, 0, 0, 0, 0, 0, 0, 0, 0, 0, 0, 0, 0, 0, 0], [0, 0, 0, 0, 1, 0, 0, 1, 0, 1, 0, 0, 0, 0, 0, 0, 0, 0, 0, 0, 0, 0, 0, 0, 0], [0, 0, 0, 0, 0, 0, 0, 0, 0, 0, 0, 0, 0, 0, 0, 0, 0, 0, 0, 1, 0, 0, 0, 0, 0], [0, 0, 1, 0, 0, 0, 0, 0, 0, 0, 0, 0, 0, 0, 0, 0, 0, 0, 0, 0, 0, 0, 0, 0, 0], [0, 0, 0, 0, 0, 0, 0, 0, 1, 0, 0, 0, 0, 0, 0, 0, 0, 0, 0, 0, 0, 0, 0, 0, 0], [0, 0, 0, 0, 0, 0, 0, 0, 0, 0, 0, 0, 0, 0, 0, 0, 0, 0, 0, 0, 0, 0, 0, 0, 1], [0, 0, 0, 0, 0, 0, 0, 0, 0, 0, 0, 0, 0, 0, 0, 1, 0, 0, 0, 0, 0, 0, 0, 0, 0], [0, 0, 0, 0, 0, 0, 0, 0, 0, 0, 0, 0, 0, 0, 0, 0, 0, 0, 0, 0, 1, 0, 0, 0, 0], [0, 0, 0, 0, 0, 0, 0, 0, 0, 0, 0, 0, 0, 0, 0, 0, 1, 0, 0, 0, 0, 0, 0, 0, 0], [0, 0, 0, 0, 0, 0, 1, 0, 0, 0, 0, 0, 0, 0, 0, 0, 0, 0, 0, 0, 0, 0, 0, 0, 0], [0, 0, 0, 0, 0, 0, 0, 0, 0, 0, 0, 0, 0, 0, 0, 0, 0, 0, 1, 0, 0, 0, 0, 0, 0], [0, 0, 0, 0, 0, 0, 0, 0, 0, 0, 0, 0, 0, 0, 0, 0, 0, 0, 0, 0, 0, 0, 1, 0, 0]]\n"
          ]
        }
      ]
    },
    {
      "cell_type": "code",
      "source": [
        "classes = list(set(Y))\n",
        "print(classes)\n",
        "Y_encoded = []\n",
        "for data_point in Y:\n",
        "    data_point_encoded = [0] * len(classes)\n",
        "    for i in range(len(classes)):\n",
        "        if classes[i] == data_point:\n",
        "            data_point_encoded[i] = 1\n",
        "    Y_encoded.append(data_point_encoded)\n",
        "\n",
        "print(Y_encoded)"
      ],
      "metadata": {
        "id": "qNFPU7vE0lT-"
      },
      "execution_count": null,
      "outputs": []
    },
    {
      "cell_type": "code",
      "source": [
        "X_train = X_encoded\n",
        "y_train = Y_encoded\n",
        "X_test = X_encoded\n",
        "y_test = Y_encoded"
      ],
      "metadata": {
        "id": "jy69U_In0nZ-"
      },
      "execution_count": null,
      "outputs": []
    },
    {
      "cell_type": "code",
      "source": [
        "from sklearn.model_selection import train_test_split\n",
        "X_train, X_test, y_train, y_test = train_test_split(X_encoded,Y_encoded, train_size=0.8, random_state=123, shuffle=True)"
      ],
      "metadata": {
        "id": "FGSrtcSs0p4I"
      },
      "execution_count": null,
      "outputs": []
    },
    {
      "cell_type": "code",
      "source": [
        "model = Sequential()\n",
        "model.add(Dense(units=64, activation='sigmoid',\n",
        "                input_dim=len(X_train[0])))\n",
        "model.add(Dense(units=len(y_train[0]), activation='softmax'))\n",
        "model.compile(loss=categorical_crossentropy,\n",
        "              optimizer=SGD(lr=0.09,\n",
        "                            momentum=0.45, nesterov=True))\n",
        "\n",
        "model.fit(np.array(X_train), np.array(y_train), epochs=200, batch_size=1)"
      ],
      "metadata": {
        "id": "Tln6HFYN46AO"
      },
      "execution_count": null,
      "outputs": []
    },
    {
      "cell_type": "code",
      "source": [
        "!pip install ann_visualizer"
      ],
      "metadata": {
        "id": "w4zQTDwF5PI2"
      },
      "execution_count": null,
      "outputs": []
    },
    {
      "cell_type": "code",
      "source": [
        "from ann_visualizer.visualize import ann_viz\n",
        "ann_viz(model, title=\"Nueral Network for chatbot looks\")"
      ],
      "metadata": {
        "id": "9URjX5PU0t9Z"
      },
      "execution_count": null,
      "outputs": []
    },
    {
      "cell_type": "code",
      "source": [
        "predicted_value = model.predict(np.array(X_test))\n",
        "predictions = [argmax(pred) for pred in model.predict(np.array(X_test))]\n",
        "print(\"The predicted value is\", predicted_value)\n",
        "print(\"The predicted value using argmax is\", predictions)\n",
        "print(\"The actual value is\", y_test)"
      ],
      "metadata": {
        "id": "ay9dEe1_0yDb"
      },
      "execution_count": null,
      "outputs": []
    },
    {
      "cell_type": "code",
      "source": [
        "correct = 0\n",
        "for i in range(len(predictions)):\n",
        "    if predictions[i] == argmax(y_test[i]):\n",
        "        correct += 1\n",
        "\n",
        "print (\"Correct:\", correct)\n",
        "print (\"Total:\", len(predictions))"
      ],
      "metadata": {
        "id": "mrJtl2HT00W2"
      },
      "execution_count": null,
      "outputs": []
    },
    {
      "cell_type": "code",
      "source": [
        "first_conversation = input('''Hey! This is Maya, your mental health assistant. I'm here to serve you, as a friend, as a teacher and as a guru. \n",
        "I want you to be completely open with me, to speak your heart out.\n",
        "You can use me as a journal, as a friend who just listens and never speaks, one who never judges and one who never betrays.\n",
        "You can be terribly honest with me and I won't complain about it to anyone, be it some close relative you're bitching about or a decision you made early on in your life and regret the same.\n",
        "Really, you can tell me anything and it will remain to yourself, though I'll be listening and would\n",
        "want to recommend you some ways to improve on your health. Please, stay safe and calm and always know that no matter what happens, you should\n",
        "not give up and never be afraid to try. We haven't been brought to this world for any reason, and we all have our own destinies.\n",
        "As you can see, I speak too much :)\n",
        "But, I'd want to asure you that sometimes, it's not a bad thing to speak too much. In fact, there are thousands of people like me, who spend hours writing in journals,\n",
        "because written words have more power than spoken ones.\n",
        "+\n",
        "With that, I'd like to take our conversation further and maybe include you to help me convert this one-sided conversation to a healthy interaction.\n",
        "\n",
        "I'd first want you to pen down all your thoughts; everything that comes to your mind when you think about yourself. Everything, I want you to be as open\n",
        "to me as you are or want to be with yourself. \\n\\n''')\n",
        "while len(first_conversation) < 100:\n",
        "  first_conversation = first_conversation + input('''You're doing extremely well, but I can notice that you are somewhat shy. \n",
        "  I'd want you to be as open as possible. Please consider this as a humble request and continue writing.\\n\\n''')\n",
        "second_conversation = input('''Good job! You really did it! How do you feel now? You must be feeling much better, to let it all out for once.\n",
        "If you, however, still feel the same, or perhaps worse, please debrief in 2-3 words on how you feel: ''')\n",
        "    \n",
        "prediction= model.predict(np.array([encode_sentence(second_conversation)]))\n",
        "pred_class = classes[argmax(prediction)]\n",
        "if pred_class == 'stressed':\n",
        "  response1 = input('''I think that you are feeling stressed. No worries, though, (ironic!) I'm here to help! \n",
        "  You should try to take some rest, relax and spend time on things that you enjoy. \n",
        "  Whether that's playing video games, binging Netflix, or reading books.\n",
        "  Meditating is a great remedy and will do wonders if you try. \n",
        "  If you'd like, I can recommend you some funny videos from Youtube that you may watch.\n",
        "  Also, I can provide you a list of great stress-busting slow tunes that may help you feel better.\n",
        "      \n",
        "  Press 'y' for youtube videos and 's' for slow, relaxing tunes.\\n''')\n",
        "  response1 = response1.lower()\n",
        "  if response1 == 'y':\n",
        "    print('''https://www.youtube.com/watch?v=acPAFyohdk0\n",
        "    https://www.youtube.com/watch?v=UERyZTmDKkw \\n''')\n",
        "  elif response1 == 's':\n",
        "    print('''https://www.youtube.com/watch?v=OCGiW4_zrfA\n",
        "    https://www.youtube.com/watch?v=JLJqUipWRWk \\n''')\n",
        "  else:\n",
        "    print('''ALright, please stay calm and motivated, there's just so much of 'you' left in you waiting to be discovered, \n",
        "    that there's no point in giving up! Please feel free to talk to me again if you need any more help because I love to help people like you!!''')\n",
        "elif pred_class == 'demotivated':\n",
        "  response2 = input('''It feels like you're feeling demotivated. Ain't no worries, though! I can help you stay motivated by recommending you some great motivational videos\n",
        "  or I can provide you with a list of motivational songs! \n",
        "  \n",
        "  Press 'y' for youtube videos and 's' for nice, motivational tunes/songs.\\n''')\n",
        "  response2 = response2.lower()\n",
        "  if response2 == 'y':\n",
        "    print('''https://www.youtube.com/watch?v=83RUhxsfLWs\n",
        "    https://www.youtube.com/watch?v=OUFuaMj6z-w \\n''')\n",
        "  elif response2 == 's':\n",
        "    print('''https://www.youtube.com/watch?v=OCGiW4_zrfA\n",
        "    https://www.youtube.com/watch?v=JLJqUipWRWk \\n''')\n",
        "elif pred_class == 'anxious':\n",
        "  response3 = input('''It seems like you're feeling anxious, which is completely normal and there's nothing to worry about. Tens of millions of people face\n",
        "  anxiety and most of them do just fine! You'll do too, believe me! \n",
        "  To help you feel relaxed and composed, I can recommend you some calm and relaxing youtube videos or tunes!\n",
        "  \n",
        "  Press 'y' for youtube videos and 's' for calm, relaxing tunes that you can vibe to!''')\n",
        "  response3 = response3.lower()\n",
        "  if response3 == 'y':\n",
        "    print('''https://www.youtube.com/watch?v=2OEL4P1Rz04\n",
        "    https://www.youtube.com/watch?v=79kpoGF8KWU \\n''')\n",
        "  if response3 == 's':\n",
        "    print('''https://www.youtube.com/watch?v=PcuY147VpnM\n",
        "    https://www.youtube.com/watch?v=IvdahN23rQ0 \\n''')\n",
        "elif pred_class == 'depressed':\n",
        "  response4 = input('''I have a feeling that you're depressed. Nothing to feel bad about though, hundreds of millions of people have it around the world!\n",
        "  All I would recommend you to do is to meditate, spend time on hobbies (try developing some if you have none!) or stay busy (occupied)!\n",
        "  I do, however, know some great Youtube videos and vibe-y songs that might help you feel better!\n",
        "  \n",
        "  Press 'y' for youtube videos or 's' for nice, feel-good tunes\\n''')\n",
        "  response4 = response4.lower()\n",
        "  if response4 == 'y':\n",
        "    print('''https://www.youtube.com/watch?v=BNiTVsAlzlc\n",
        "    https://www.youtube.com/watch?v=9LhLjpsstPY \\n''')\n",
        "  if response4 == 's':\n",
        "    print('''https://www.youtube.com/watch?v=QZQeie2iY7E\n",
        "    https://www.youtube.com/watch?v=EZpJMP4YdXE \\n''')\n",
        "\n",
        "\n",
        "  \n",
        "\n",
        "\n",
        "\n",
        "    \n",
        "    \n"
      ],
      "metadata": {
        "id": "0ap-V3zL050c"
      },
      "execution_count": null,
      "outputs": []
    }
  ]
}